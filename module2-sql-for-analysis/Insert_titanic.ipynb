{
  "nbformat": 4,
  "nbformat_minor": 0,
  "metadata": {
    "colab": {
      "name": "Insert_titanic.ipynb",
      "provenance": [],
      "collapsed_sections": []
    },
    "kernelspec": {
      "name": "python3",
      "display_name": "Python 3"
    }
  },
  "cells": [
    {
      "cell_type": "code",
      "metadata": {
        "id": "Nhv45GXZXUZ5",
        "colab_type": "code",
        "colab": {}
      },
      "source": [
        "!pip install psycopg2-binary"
      ],
      "execution_count": 0,
      "outputs": []
    },
    {
      "cell_type": "code",
      "metadata": {
        "id": "RilwYjztXjUg",
        "colab_type": "code",
        "colab": {}
      },
      "source": [
        "import pandas as pd\n",
        "import psycopg2\n",
        "import sqlite3\n",
        "\n",
        "# import data titanic.csv\n",
        "df = pd.read_csv(\"titanic.csv\")\n",
        "df['Name'] = df['Name'].str.replace(\"'\", \" \")"
      ],
      "execution_count": 0,
      "outputs": []
    },
    {
      "cell_type": "code",
      "metadata": {
        "id": "Lp71r1AHXjR7",
        "colab_type": "code",
        "colab": {}
      },
      "source": [
        "# Sqlite3 file and Connect \n",
        "conn = sqlite3.connect('titanic.sqlite3')\n",
        "cursor = conn.cursor()"
      ],
      "execution_count": 0,
      "outputs": []
    },
    {
      "cell_type": "code",
      "metadata": {
        "id": "lFj81x87XjPE",
        "colab_type": "code",
        "colab": {}
      },
      "source": [
        "# data to sql \n",
        "\n",
        "df.to_sql('titanic', conn, index=False, if_exists='replace')"
      ],
      "execution_count": 0,
      "outputs": []
    },
    {
      "cell_type": "code",
      "metadata": {
        "id": "TiSItErfXjLl",
        "colab_type": "code",
        "colab": {}
      },
      "source": [
        "\n",
        "# See data types\n",
        "cursor_s = conn.cursor()\n",
        "query = 'SELECT COUNT(*) FROM titanic;'"
      ],
      "execution_count": 0,
      "outputs": []
    },
    {
      "cell_type": "code",
      "metadata": {
        "id": "8sX0ZpJ9XjH8",
        "colab_type": "code",
        "colab": {}
      },
      "source": [
        "cursor_s.execute(query).fetchall()\n",
        "\n",
        "titanic = cursor_s.execute('SELECT * FROM titanic;').fetchall()\n",
        "\n",
        "cursor_s.execute('PRAGMA table_info(titanic);').fetchall()"
      ],
      "execution_count": 0,
      "outputs": []
    },
    {
      "cell_type": "code",
      "metadata": {
        "id": "jCYL8SFyXjCE",
        "colab_type": "code",
        "colab": {}
      },
      "source": [
        "\n",
        "# Psycopg2 + password \n",
        "dbname = 'bbhudnlj'\n",
        "user = 'bbhudnlj'\n",
        "password = 'wvVskx2m_CkKzdz3ET4npCKU3UxkN3hR'\n",
        "host = 'salt.db.elephantsql.com'\n",
        "\n",
        "pg_conn = psycopg2.connect(dbname=dbname, user=user,\n",
        "                        password=password, host=host)\n",
        "\n",
        "pg_conn\n",
        "pg_cursor = pg_conn.cursor()"
      ],
      "execution_count": 0,
      "outputs": []
    },
    {
      "cell_type": "code",
      "metadata": {
        "id": "h465_--BXi-A",
        "colab_type": "code",
        "colab": {}
      },
      "source": [
        "\n",
        "# Create table\n",
        "\n",
        "create_titanic_table = \"\"\"\n",
        "    CREATE TABLE titanic (\n",
        "        index SERIAL PRIMARY KEY,\n",
        "        Survived INT,\n",
        "        Pclass INT,\n",
        "        Name TEXT,\n",
        "        Sex TEXT,\n",
        "        Age REAL,\n",
        "        Siblings_Spouses_Aboard INT,\n",
        "        Parents_Children_Aboard INT,\n",
        "        Fare REAL\n",
        ");\n",
        "\"\"\"\n",
        "pg_cursor.execute(create_titanic_table)"
      ],
      "execution_count": 0,
      "outputs": []
    },
    {
      "cell_type": "code",
      "metadata": {
        "id": "X-Qx7Gx4Xi6n",
        "colab_type": "code",
        "colab": {}
      },
      "source": [
        "\n",
        "# Insert_titanic\n",
        "\n",
        "for t in titanic:\n",
        "    insert_titanic = \"\"\"\n",
        "      INSERT INTO titanic\n",
        "      (Survived, PClass, Name, Sex, Age, Siblings_Spouses_Aboard, Parents_Children_Aboard, Fare)\n",
        "        VALUES \"\"\" + str(titanic[0]) + ';'\n",
        "\n",
        "pg_cursor.execute(insert_titanic)\n",
        "\n",
        "pg_cursor.close()\n",
        "pg_conn.commit()"
      ],
      "execution_count": 0,
      "outputs": []
    }
  ]
}